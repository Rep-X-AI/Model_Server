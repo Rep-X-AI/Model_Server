{
  "nbformat": 4,
  "nbformat_minor": 0,
  "metadata": {
    "colab": {
      "provenance": []
    },
    "kernelspec": {
      "name": "python3",
      "display_name": "Python 3"
    },
    "language_info": {
      "name": "python"
    }
  },
  "cells": [
    {
      "cell_type": "code",
      "source": [
        "# !pip install PyPDF2\n",
        "# !pip install PyMuPDF"
      ],
      "metadata": {
        "id": "21B-rC_JGRzV"
      },
      "execution_count": 42,
      "outputs": []
    },
    {
      "cell_type": "code",
      "source": [
        "import numpy as np\n",
        "import pandas as pd\n",
        "import matplotlib.pyplot as plt\n",
        "\n",
        "from google.colab import files\n",
        "from PyPDF2 import PdfReader\n",
        "from io import BytesIO\n",
        "import os\n",
        "import fitz\n",
        "import requests\n",
        "\n",
        "from PIL import Image\n",
        "import math\n",
        "from math import sqrt\n",
        "import cv2"
      ],
      "metadata": {
        "id": "uo2zvjRdGiuE"
      },
      "execution_count": 43,
      "outputs": []
    },
    {
      "cell_type": "markdown",
      "source": [
        "## Model Answer"
      ],
      "metadata": {
        "id": "xGNELZUzG3ls"
      }
    },
    {
      "cell_type": "code",
      "execution_count": 73,
      "metadata": {
        "id": "ItTuNtst-V13"
      },
      "outputs": [],
      "source": [
        "uploaded_model = files.upload()\n",
        "file_name = list(uploaded_model.keys())[0]\n",
        "\n",
        "def extract_text_from_pdf(pdf_content):\n",
        "\n",
        "  reader = PdfReader(BytesIO(pdf_content))\n",
        "  text = ''\n",
        "  for page_num in range(len(reader.pages)):\n",
        "    page = reader.pages[page_num]\n",
        "    text += page.extract_text() + \"\\n\"\n",
        "  return text\n",
        "\n",
        "\n",
        "model_ans = extract_text_from_pdf(uploaded_model[file_name])"
      ]
    },
    {
      "cell_type": "code",
      "source": [
        "print(model_ans)"
      ],
      "metadata": {
        "colab": {
          "base_uri": "https://localhost:8080/"
        },
        "id": "WpjqiSO1G_TP",
        "outputId": "4ba16524-d5da-459a-f103-11371bb5546a"
      },
      "execution_count": 46,
      "outputs": [
        {
          "output_type": "stream",
          "name": "stdout",
          "text": [
            "An algorithm is a finite set of instructions carried out in a specific order to \n",
            "perform a particular task  or solve a particular problem.  \n",
            " \n",
            " \n",
            " \n",
            "Study of algorithms contains  analyzing their efficiency, scalability, and other \n",
            "crucial properties that determi nes whether the algorithm is suitable or not . \n",
            "\n",
            "\n"
          ]
        }
      ]
    },
    {
      "cell_type": "markdown",
      "source": [
        "## User Report"
      ],
      "metadata": {
        "id": "PDp8TpHWH19j"
      }
    },
    {
      "cell_type": "code",
      "source": [
        "uploaded_report = files.upload()\n",
        "file_name = list(uploaded_report.keys())[0]\n",
        "\n",
        "def pdf_to_images(pdf_path, output_folder, resolution=300):\n",
        "\n",
        "    images=[]\n",
        "\n",
        "    # Create output folder if it doesn't exist\n",
        "    if not os.path.exists(output_folder):\n",
        "        os.makedirs(output_folder)\n",
        "\n",
        "    # Open the PDF file\n",
        "    pdf_document = fitz.open(pdf_path)\n",
        "\n",
        "\n",
        "    for page_number in range(len(pdf_document)):\n",
        "        # Get the page\n",
        "        page = pdf_document[page_number]\n",
        "\n",
        "        matrix = fitz.Matrix(resolution/72, resolution/72)\n",
        "        image = page.get_pixmap(matrix=matrix)\n",
        "\n",
        "        output_image_path = os.path.join(output_folder, f\"page_{page_number + 1}.png\")\n",
        "\n",
        "        image.save(output_image_path)\n",
        "        images.append(output_image_path)\n",
        "\n",
        "    pdf_document.close()\n",
        "    return images\n",
        "\n",
        "\n",
        "pdf_filename = file_name\n",
        "output_folder = \"output_images\"\n",
        "\n",
        "images=pdf_to_images(pdf_filename, output_folder, 300)"
      ],
      "metadata": {
        "colab": {
          "base_uri": "https://localhost:8080/",
          "height": 73
        },
        "id": "ImCSy1QF-8cF",
        "outputId": "e0be1118-fe4f-4a4d-aed3-6cdd1dcbf95e"
      },
      "execution_count": 47,
      "outputs": [
        {
          "output_type": "display_data",
          "data": {
            "text/plain": [
              "<IPython.core.display.HTML object>"
            ],
            "text/html": [
              "\n",
              "     <input type=\"file\" id=\"files-960f8ee0-e39a-4302-a65a-22c37300ff4e\" name=\"files[]\" multiple disabled\n",
              "        style=\"border:none\" />\n",
              "     <output id=\"result-960f8ee0-e39a-4302-a65a-22c37300ff4e\">\n",
              "      Upload widget is only available when the cell has been executed in the\n",
              "      current browser session. Please rerun this cell to enable.\n",
              "      </output>\n",
              "      <script>// Copyright 2017 Google LLC\n",
              "//\n",
              "// Licensed under the Apache License, Version 2.0 (the \"License\");\n",
              "// you may not use this file except in compliance with the License.\n",
              "// You may obtain a copy of the License at\n",
              "//\n",
              "//      http://www.apache.org/licenses/LICENSE-2.0\n",
              "//\n",
              "// Unless required by applicable law or agreed to in writing, software\n",
              "// distributed under the License is distributed on an \"AS IS\" BASIS,\n",
              "// WITHOUT WARRANTIES OR CONDITIONS OF ANY KIND, either express or implied.\n",
              "// See the License for the specific language governing permissions and\n",
              "// limitations under the License.\n",
              "\n",
              "/**\n",
              " * @fileoverview Helpers for google.colab Python module.\n",
              " */\n",
              "(function(scope) {\n",
              "function span(text, styleAttributes = {}) {\n",
              "  const element = document.createElement('span');\n",
              "  element.textContent = text;\n",
              "  for (const key of Object.keys(styleAttributes)) {\n",
              "    element.style[key] = styleAttributes[key];\n",
              "  }\n",
              "  return element;\n",
              "}\n",
              "\n",
              "// Max number of bytes which will be uploaded at a time.\n",
              "const MAX_PAYLOAD_SIZE = 100 * 1024;\n",
              "\n",
              "function _uploadFiles(inputId, outputId) {\n",
              "  const steps = uploadFilesStep(inputId, outputId);\n",
              "  const outputElement = document.getElementById(outputId);\n",
              "  // Cache steps on the outputElement to make it available for the next call\n",
              "  // to uploadFilesContinue from Python.\n",
              "  outputElement.steps = steps;\n",
              "\n",
              "  return _uploadFilesContinue(outputId);\n",
              "}\n",
              "\n",
              "// This is roughly an async generator (not supported in the browser yet),\n",
              "// where there are multiple asynchronous steps and the Python side is going\n",
              "// to poll for completion of each step.\n",
              "// This uses a Promise to block the python side on completion of each step,\n",
              "// then passes the result of the previous step as the input to the next step.\n",
              "function _uploadFilesContinue(outputId) {\n",
              "  const outputElement = document.getElementById(outputId);\n",
              "  const steps = outputElement.steps;\n",
              "\n",
              "  const next = steps.next(outputElement.lastPromiseValue);\n",
              "  return Promise.resolve(next.value.promise).then((value) => {\n",
              "    // Cache the last promise value to make it available to the next\n",
              "    // step of the generator.\n",
              "    outputElement.lastPromiseValue = value;\n",
              "    return next.value.response;\n",
              "  });\n",
              "}\n",
              "\n",
              "/**\n",
              " * Generator function which is called between each async step of the upload\n",
              " * process.\n",
              " * @param {string} inputId Element ID of the input file picker element.\n",
              " * @param {string} outputId Element ID of the output display.\n",
              " * @return {!Iterable<!Object>} Iterable of next steps.\n",
              " */\n",
              "function* uploadFilesStep(inputId, outputId) {\n",
              "  const inputElement = document.getElementById(inputId);\n",
              "  inputElement.disabled = false;\n",
              "\n",
              "  const outputElement = document.getElementById(outputId);\n",
              "  outputElement.innerHTML = '';\n",
              "\n",
              "  const pickedPromise = new Promise((resolve) => {\n",
              "    inputElement.addEventListener('change', (e) => {\n",
              "      resolve(e.target.files);\n",
              "    });\n",
              "  });\n",
              "\n",
              "  const cancel = document.createElement('button');\n",
              "  inputElement.parentElement.appendChild(cancel);\n",
              "  cancel.textContent = 'Cancel upload';\n",
              "  const cancelPromise = new Promise((resolve) => {\n",
              "    cancel.onclick = () => {\n",
              "      resolve(null);\n",
              "    };\n",
              "  });\n",
              "\n",
              "  // Wait for the user to pick the files.\n",
              "  const files = yield {\n",
              "    promise: Promise.race([pickedPromise, cancelPromise]),\n",
              "    response: {\n",
              "      action: 'starting',\n",
              "    }\n",
              "  };\n",
              "\n",
              "  cancel.remove();\n",
              "\n",
              "  // Disable the input element since further picks are not allowed.\n",
              "  inputElement.disabled = true;\n",
              "\n",
              "  if (!files) {\n",
              "    return {\n",
              "      response: {\n",
              "        action: 'complete',\n",
              "      }\n",
              "    };\n",
              "  }\n",
              "\n",
              "  for (const file of files) {\n",
              "    const li = document.createElement('li');\n",
              "    li.append(span(file.name, {fontWeight: 'bold'}));\n",
              "    li.append(span(\n",
              "        `(${file.type || 'n/a'}) - ${file.size} bytes, ` +\n",
              "        `last modified: ${\n",
              "            file.lastModifiedDate ? file.lastModifiedDate.toLocaleDateString() :\n",
              "                                    'n/a'} - `));\n",
              "    const percent = span('0% done');\n",
              "    li.appendChild(percent);\n",
              "\n",
              "    outputElement.appendChild(li);\n",
              "\n",
              "    const fileDataPromise = new Promise((resolve) => {\n",
              "      const reader = new FileReader();\n",
              "      reader.onload = (e) => {\n",
              "        resolve(e.target.result);\n",
              "      };\n",
              "      reader.readAsArrayBuffer(file);\n",
              "    });\n",
              "    // Wait for the data to be ready.\n",
              "    let fileData = yield {\n",
              "      promise: fileDataPromise,\n",
              "      response: {\n",
              "        action: 'continue',\n",
              "      }\n",
              "    };\n",
              "\n",
              "    // Use a chunked sending to avoid message size limits. See b/62115660.\n",
              "    let position = 0;\n",
              "    do {\n",
              "      const length = Math.min(fileData.byteLength - position, MAX_PAYLOAD_SIZE);\n",
              "      const chunk = new Uint8Array(fileData, position, length);\n",
              "      position += length;\n",
              "\n",
              "      const base64 = btoa(String.fromCharCode.apply(null, chunk));\n",
              "      yield {\n",
              "        response: {\n",
              "          action: 'append',\n",
              "          file: file.name,\n",
              "          data: base64,\n",
              "        },\n",
              "      };\n",
              "\n",
              "      let percentDone = fileData.byteLength === 0 ?\n",
              "          100 :\n",
              "          Math.round((position / fileData.byteLength) * 100);\n",
              "      percent.textContent = `${percentDone}% done`;\n",
              "\n",
              "    } while (position < fileData.byteLength);\n",
              "  }\n",
              "\n",
              "  // All done.\n",
              "  yield {\n",
              "    response: {\n",
              "      action: 'complete',\n",
              "    }\n",
              "  };\n",
              "}\n",
              "\n",
              "scope.google = scope.google || {};\n",
              "scope.google.colab = scope.google.colab || {};\n",
              "scope.google.colab._files = {\n",
              "  _uploadFiles,\n",
              "  _uploadFilesContinue,\n",
              "};\n",
              "})(self);\n",
              "</script> "
            ]
          },
          "metadata": {}
        },
        {
          "output_type": "stream",
          "name": "stdout",
          "text": [
            "Saving Scan_2024.pdf to Scan_2024 (2).pdf\n"
          ]
        }
      ]
    },
    {
      "cell_type": "code",
      "source": [
        "for i in range(len(images)):\n",
        "  img=plt.imread(images[i])\n",
        "  plt.imshow(img)\n",
        "  plt.title(i)\n",
        "  plt.axis('off')\n",
        "  plt.show()"
      ],
      "metadata": {
        "colab": {
          "base_uri": "https://localhost:8080/",
          "height": 525
        },
        "id": "o6jdclpjAd51",
        "outputId": "ac294ea6-56a8-4cf4-d4f6-c886de33dc10"
      },
      "execution_count": 48,
      "outputs": [
        {
          "output_type": "display_data",
          "data": {
            "text/plain": [
              "<Figure size 640x480 with 1 Axes>"
            ],
            "image/png": "[encoded data removed]"
          },
          "metadata": {}
        },
        {
          "output_type": "display_data",
          "data": {
            "text/plain": [
              "<Figure size 640x480 with 1 Axes>"
            ],
            "image/png": "[encoded data removed]"
          },
          "metadata": {}
        }
      ]
    },
    {
      "cell_type": "code",
      "source": [
        "# image = cv2.imread(images[0])\n",
        "# image"
      ],
      "metadata": {
        "id": "uoW9_G4LQxRX"
      },
      "execution_count": 49,
      "outputs": []
    },
    {
      "cell_type": "markdown",
      "source": [
        "## Diagram Similarity (if present)"
      ],
      "metadata": {
        "id": "-Tn4W1HXJ4ss"
      }
    },
    {
      "cell_type": "code",
      "source": [
        "files = files.upload()\n",
        "\n",
        "sample_image = Image.open(list(files.keys())[0])\n",
        "\n",
        "\n",
        "# # converting to 8 bit images\n",
        "# img1 = image1.convert('L')\n",
        "# img1.save(\"path.jpg\")\n",
        "img1 = sample_image.convert('L')"
      ],
      "metadata": {
        "colab": {
          "base_uri": "https://localhost:8080/",
          "height": 73
        },
        "id": "2-Le4i6DJP3c",
        "outputId": "af40784d-fc0b-49d0-d8c2-d4fcadc6f051"
      },
      "execution_count": 50,
      "outputs": [
        {
          "output_type": "display_data",
          "data": {
            "text/plain": [
              "<IPython.core.display.HTML object>"
            ],
            "text/html": [
              "\n",
              "     <input type=\"file\" id=\"files-d3b82935-4a0b-44b4-951e-85cbcca52a4d\" name=\"files[]\" multiple disabled\n",
              "        style=\"border:none\" />\n",
              "     <output id=\"result-d3b82935-4a0b-44b4-951e-85cbcca52a4d\">\n",
              "      Upload widget is only available when the cell has been executed in the\n",
              "      current browser session. Please rerun this cell to enable.\n",
              "      </output>\n",
              "      <script>// Copyright 2017 Google LLC\n",
              "//\n",
              "// Licensed under the Apache License, Version 2.0 (the \"License\");\n",
              "// you may not use this file except in compliance with the License.\n",
              "// You may obtain a copy of the License at\n",
              "//\n",
              "//      http://www.apache.org/licenses/LICENSE-2.0\n",
              "//\n",
              "// Unless required by applicable law or agreed to in writing, software\n",
              "// distributed under the License is distributed on an \"AS IS\" BASIS,\n",
              "// WITHOUT WARRANTIES OR CONDITIONS OF ANY KIND, either express or implied.\n",
              "// See the License for the specific language governing permissions and\n",
              "// limitations under the License.\n",
              "\n",
              "/**\n",
              " * @fileoverview Helpers for google.colab Python module.\n",
              " */\n",
              "(function(scope) {\n",
              "function span(text, styleAttributes = {}) {\n",
              "  const element = document.createElement('span');\n",
              "  element.textContent = text;\n",
              "  for (const key of Object.keys(styleAttributes)) {\n",
              "    element.style[key] = styleAttributes[key];\n",
              "  }\n",
              "  return element;\n",
              "}\n",
              "\n",
              "// Max number of bytes which will be uploaded at a time.\n",
              "const MAX_PAYLOAD_SIZE = 100 * 1024;\n",
              "\n",
              "function _uploadFiles(inputId, outputId) {\n",
              "  const steps = uploadFilesStep(inputId, outputId);\n",
              "  const outputElement = document.getElementById(outputId);\n",
              "  // Cache steps on the outputElement to make it available for the next call\n",
              "  // to uploadFilesContinue from Python.\n",
              "  outputElement.steps = steps;\n",
              "\n",
              "  return _uploadFilesContinue(outputId);\n",
              "}\n",
              "\n",
              "// This is roughly an async generator (not supported in the browser yet),\n",
              "// where there are multiple asynchronous steps and the Python side is going\n",
              "// to poll for completion of each step.\n",
              "// This uses a Promise to block the python side on completion of each step,\n",
              "// then passes the result of the previous step as the input to the next step.\n",
              "function _uploadFilesContinue(outputId) {\n",
              "  const outputElement = document.getElementById(outputId);\n",
              "  const steps = outputElement.steps;\n",
              "\n",
              "  const next = steps.next(outputElement.lastPromiseValue);\n",
              "  return Promise.resolve(next.value.promise).then((value) => {\n",
              "    // Cache the last promise value to make it available to the next\n",
              "    // step of the generator.\n",
              "    outputElement.lastPromiseValue = value;\n",
              "    return next.value.response;\n",
              "  });\n",
              "}\n",
              "\n",
              "/**\n",
              " * Generator function which is called between each async step of the upload\n",
              " * process.\n",
              " * @param {string} inputId Element ID of the input file picker element.\n",
              " * @param {string} outputId Element ID of the output display.\n",
              " * @return {!Iterable<!Object>} Iterable of next steps.\n",
              " */\n",
              "function* uploadFilesStep(inputId, outputId) {\n",
              "  const inputElement = document.getElementById(inputId);\n",
              "  inputElement.disabled = false;\n",
              "\n",
              "  const outputElement = document.getElementById(outputId);\n",
              "  outputElement.innerHTML = '';\n",
              "\n",
              "  const pickedPromise = new Promise((resolve) => {\n",
              "    inputElement.addEventListener('change', (e) => {\n",
              "      resolve(e.target.files);\n",
              "    });\n",
              "  });\n",
              "\n",
              "  const cancel = document.createElement('button');\n",
              "  inputElement.parentElement.appendChild(cancel);\n",
              "  cancel.textContent = 'Cancel upload';\n",
              "  const cancelPromise = new Promise((resolve) => {\n",
              "    cancel.onclick = () => {\n",
              "      resolve(null);\n",
              "    };\n",
              "  });\n",
              "\n",
              "  // Wait for the user to pick the files.\n",
              "  const files = yield {\n",
              "    promise: Promise.race([pickedPromise, cancelPromise]),\n",
              "    response: {\n",
              "      action: 'starting',\n",
              "    }\n",
              "  };\n",
              "\n",
              "  cancel.remove();\n",
              "\n",
              "  // Disable the input element since further picks are not allowed.\n",
              "  inputElement.disabled = true;\n",
              "\n",
              "  if (!files) {\n",
              "    return {\n",
              "      response: {\n",
              "        action: 'complete',\n",
              "      }\n",
              "    };\n",
              "  }\n",
              "\n",
              "  for (const file of files) {\n",
              "    const li = document.createElement('li');\n",
              "    li.append(span(file.name, {fontWeight: 'bold'}));\n",
              "    li.append(span(\n",
              "        `(${file.type || 'n/a'}) - ${file.size} bytes, ` +\n",
              "        `last modified: ${\n",
              "            file.lastModifiedDate ? file.lastModifiedDate.toLocaleDateString() :\n",
              "                                    'n/a'} - `));\n",
              "    const percent = span('0% done');\n",
              "    li.appendChild(percent);\n",
              "\n",
              "    outputElement.appendChild(li);\n",
              "\n",
              "    const fileDataPromise = new Promise((resolve) => {\n",
              "      const reader = new FileReader();\n",
              "      reader.onload = (e) => {\n",
              "        resolve(e.target.result);\n",
              "      };\n",
              "      reader.readAsArrayBuffer(file);\n",
              "    });\n",
              "    // Wait for the data to be ready.\n",
              "    let fileData = yield {\n",
              "      promise: fileDataPromise,\n",
              "      response: {\n",
              "        action: 'continue',\n",
              "      }\n",
              "    };\n",
              "\n",
              "    // Use a chunked sending to avoid message size limits. See b/62115660.\n",
              "    let position = 0;\n",
              "    do {\n",
              "      const length = Math.min(fileData.byteLength - position, MAX_PAYLOAD_SIZE);\n",
              "      const chunk = new Uint8Array(fileData, position, length);\n",
              "      position += length;\n",
              "\n",
              "      const base64 = btoa(String.fromCharCode.apply(null, chunk));\n",
              "      yield {\n",
              "        response: {\n",
              "          action: 'append',\n",
              "          file: file.name,\n",
              "          data: base64,\n",
              "        },\n",
              "      };\n",
              "\n",
              "      let percentDone = fileData.byteLength === 0 ?\n",
              "          100 :\n",
              "          Math.round((position / fileData.byteLength) * 100);\n",
              "      percent.textContent = `${percentDone}% done`;\n",
              "\n",
              "    } while (position < fileData.byteLength);\n",
              "  }\n",
              "\n",
              "  // All done.\n",
              "  yield {\n",
              "    response: {\n",
              "      action: 'complete',\n",
              "    }\n",
              "  };\n",
              "}\n",
              "\n",
              "scope.google = scope.google || {};\n",
              "scope.google.colab = scope.google.colab || {};\n",
              "scope.google.colab._files = {\n",
              "  _uploadFiles,\n",
              "  _uploadFilesContinue,\n",
              "};\n",
              "})(self);\n",
              "</script> "
            ]
          },
          "metadata": {}
        },
        {
          "output_type": "stream",
          "name": "stdout",
          "text": [
            "Saving Screenshot 25.png to Screenshot 25 (2).png\n"
          ]
        }
      ]
    },
    {
      "cell_type": "code",
      "source": [
        "def separate_diagram(image_path,threshold):\n",
        "\n",
        "    image = cv2.imread(image_path)\n",
        "\n",
        "    gray = cv2.cvtColor(image, cv2.COLOR_BGR2GRAY)\n",
        "    blurred = cv2.GaussianBlur(gray, (5, 5), 0)\n",
        "\n",
        "    edges = cv2.Canny(blurred, 50, 150)\n",
        "\n",
        "    # Find contours\n",
        "    contours, _ = cv2.findContours(edges.copy(), cv2.RETR_EXTERNAL, cv2.CHAIN_APPROX_SIMPLE)\n",
        "\n",
        "    # contour with the largest area (likely the diagram)\n",
        "    max_contour = max(contours, key=cv2.contourArea)\n",
        "    max_area = cv2.contourArea(max_contour)\n",
        "\n",
        "    if max_area<threshold:\n",
        "      # print(\"No Diagram\")\n",
        "      return None\n",
        "    # print(max_area)\n",
        "\n",
        "    x, y, w, h = cv2.boundingRect(max_contour)\n",
        "    side_length = max(w, h)\n",
        "\n",
        "    # Ensure the square fits within the image dimensions\n",
        "    side_length = min(side_length, min(image.shape[:2]))\n",
        "\n",
        "    # Crop\n",
        "    cropped_diagram = image[y:y + side_length, x:x + side_length]\n",
        "\n",
        "    return cropped_diagram\n",
        "\n"
      ],
      "metadata": {
        "id": "iavcWCJDJWH0"
      },
      "execution_count": 51,
      "outputs": []
    },
    {
      "cell_type": "code",
      "source": [
        "isdiagram=False\n",
        "\n",
        "for i in range(len(images)):\n",
        "  diagram = separate_diagram(images[i],5000)\n",
        "  if diagram is not None:\n",
        "    isdiagram=True\n",
        "    break\n",
        "\n",
        "print(i)\n",
        "isdiagram"
      ],
      "metadata": {
        "colab": {
          "base_uri": "https://localhost:8080/"
        },
        "id": "FIRPW21wLWd1",
        "outputId": "6a45c6ac-cb2d-42f9-e178-a94d42395780"
      },
      "execution_count": 52,
      "outputs": [
        {
          "output_type": "stream",
          "name": "stdout",
          "text": [
            "0\n"
          ]
        },
        {
          "output_type": "execute_result",
          "data": {
            "text/plain": [
              "True"
            ]
          },
          "metadata": {},
          "execution_count": 52
        }
      ]
    },
    {
      "cell_type": "code",
      "source": [
        "def cosineSim(a1,a2):\n",
        "    sum = 0\n",
        "    suma1 = 0\n",
        "    sumb1 = 0\n",
        "    for i,j in zip(a1, a2):\n",
        "        suma1 += i * i\n",
        "        sumb1 += j*j\n",
        "        sum += i*j\n",
        "    cosine_sim = sum / ((sqrt(suma1))*(sqrt(sumb1)))\n",
        "    return cosine_sim"
      ],
      "metadata": {
        "id": "xRNxJK2iM_c0"
      },
      "execution_count": 53,
      "outputs": []
    },
    {
      "cell_type": "code",
      "source": [
        "diagram_marks=0\n",
        "\n",
        "if isdiagram:\n",
        "  img_arr1 = np.array(diagram)\n",
        "  img_arr2 = np.array(img1)\n",
        "\n",
        "  flat_img1=img_arr1.flatten()\n",
        "  flat_img2=img_arr2.flatten()\n",
        "\n",
        "  # normalizing\n",
        "  norm_img1 = flat_img1/255.0\n",
        "  norm_img2 = flat_img2/255.0\n",
        "\n",
        "  similarity=cosineSim(norm_img1,norm_img2)*100\n",
        "  print(\"Diagram Similarity:\",end=\" \")\n",
        "  print(round(similarity, 2))\n",
        "\n",
        "  if round(similarity, 2)>0.95:\n",
        "    diagram_marks=5\n",
        "  elif round(similarity, 2)>0.9:\n",
        "    diagram_marks=4\n",
        "  elif round(similarity, 2)>0.85:\n",
        "    diagram_marks=3\n",
        "  elif round(similarity, 2)>0.8:\n",
        "    diagram_marks=2\n",
        "  elif round(similarity, 2)>0.75:\n",
        "    diagram_marks=1\n",
        "  else:\n",
        "    diagram_marks=0\n"
      ],
      "metadata": {
        "colab": {
          "base_uri": "https://localhost:8080/"
        },
        "id": "Xf6gdhinLrPV",
        "outputId": "ca386a71-0a55-4ccb-e3fc-86bab05e409f"
      },
      "execution_count": 54,
      "outputs": [
        {
          "output_type": "stream",
          "name": "stdout",
          "text": [
            "Diagram Similarity: 98.45\n"
          ]
        }
      ]
    },
    {
      "cell_type": "code",
      "source": [
        "diagram_marks"
      ],
      "metadata": {
        "colab": {
          "base_uri": "https://localhost:8080/"
        },
        "id": "Dyka90FpNCyU",
        "outputId": "451ffdb9-0cf1-4d1e-fcf6-8caff5fa7f8f"
      },
      "execution_count": 55,
      "outputs": [
        {
          "output_type": "execute_result",
          "data": {
            "text/plain": [
              "5"
            ]
          },
          "metadata": {},
          "execution_count": 55
        }
      ]
    },
    {
      "cell_type": "markdown",
      "source": [
        "## Handwritten text detection"
      ],
      "metadata": {
        "id": "4S98_oIgP5wt"
      }
    },
    {
      "cell_type": "code",
      "source": [
        "# !pip install paddlepaddle\n",
        "# !pip install paddleocr==2.7.3"
      ],
      "metadata": {
        "id": "0awfwWXUP0xV",
        "colab": {
          "base_uri": "https://localhost:8080/"
        },
        "outputId": "093a3401-c078-4224-bdf3-af27b6049aad"
      },
      "execution_count": 56,
      "outputs": [
        {
          "output_type": "stream",
          "name": "stdout",
          "text": [
            "Requirement already satisfied: paddlepaddle in /usr/local/lib/python3.10/dist-packages (2.6.1)\n",
            "Requirement already satisfied: httpx in /usr/local/lib/python3.10/dist-packages (from paddlepaddle) (0.27.0)\n",
            "Requirement already satisfied: numpy>=1.13 in /usr/local/lib/python3.10/dist-packages (from paddlepaddle) (1.25.2)\n",
            "Requirement already satisfied: Pillow in /usr/local/lib/python3.10/dist-packages (from paddlepaddle) (10.0.1)\n",
            "Requirement already satisfied: decorator in /usr/local/lib/python3.10/dist-packages (from paddlepaddle) (4.4.2)\n",
            "Requirement already satisfied: astor in /usr/local/lib/python3.10/dist-packages (from paddlepaddle) (0.8.1)\n",
            "Requirement already satisfied: opt-einsum==3.3.0 in /usr/local/lib/python3.10/dist-packages (from paddlepaddle) (3.3.0)\n",
            "Requirement already satisfied: protobuf>=3.20.2 in /usr/local/lib/python3.10/dist-packages (from paddlepaddle) (3.20.3)\n",
            "Requirement already satisfied: anyio in /usr/local/lib/python3.10/dist-packages (from httpx->paddlepaddle) (3.7.1)\n",
            "Requirement already satisfied: certifi in /usr/local/lib/python3.10/dist-packages (from httpx->paddlepaddle) (2024.2.2)\n",
            "Requirement already satisfied: httpcore==1.* in /usr/local/lib/python3.10/dist-packages (from httpx->paddlepaddle) (1.0.5)\n",
            "Requirement already satisfied: idna in /usr/local/lib/python3.10/dist-packages (from httpx->paddlepaddle) (3.6)\n",
            "Requirement already satisfied: sniffio in /usr/local/lib/python3.10/dist-packages (from httpx->paddlepaddle) (1.3.1)\n",
            "Requirement already satisfied: h11<0.15,>=0.13 in /usr/local/lib/python3.10/dist-packages (from httpcore==1.*->httpx->paddlepaddle) (0.14.0)\n",
            "Requirement already satisfied: exceptiongroup in /usr/local/lib/python3.10/dist-packages (from anyio->httpx->paddlepaddle) (1.2.0)\n",
            "Collecting paddleocr==2.7.3\n",
            "  Downloading paddleocr-2.7.3-py3-none-any.whl (780 kB)\n",
            "\u001b[2K     \u001b[90m━━━━━━━━━━━━━━━━━━━━━━━━━━━━━━━━━━━━━━━━\u001b[0m \u001b[32m780.0/780.0 kB\u001b[0m \u001b[31m5.7 MB/s\u001b[0m eta \u001b[36m0:00:00\u001b[0m\n",
            "\u001b[?25hRequirement already satisfied: shapely in /usr/local/lib/python3.10/dist-packages (from paddleocr==2.7.3) (2.0.3)\n",
            "Requirement already satisfied: scikit-image in /usr/local/lib/python3.10/dist-packages (from paddleocr==2.7.3) (0.19.3)\n",
            "Requirement already satisfied: imgaug in /usr/local/lib/python3.10/dist-packages (from paddleocr==2.7.3) (0.4.0)\n",
            "Requirement already satisfied: pyclipper in /usr/local/lib/python3.10/dist-packages (from paddleocr==2.7.3) (1.3.0.post5)\n",
            "Requirement already satisfied: lmdb in /usr/local/lib/python3.10/dist-packages (from paddleocr==2.7.3) (1.4.1)\n",
            "Requirement already satisfied: tqdm in /usr/local/lib/python3.10/dist-packages (from paddleocr==2.7.3) (4.66.2)\n",
            "Requirement already satisfied: numpy in /usr/local/lib/python3.10/dist-packages (from paddleocr==2.7.3) (1.25.2)\n",
            "Requirement already satisfied: visualdl in /usr/local/lib/python3.10/dist-packages (from paddleocr==2.7.3) (2.5.3)\n",
            "Requirement already satisfied: rapidfuzz in /usr/local/lib/python3.10/dist-packages (from paddleocr==2.7.3) (3.7.0)\n",
            "Requirement already satisfied: opencv-python<=4.6.0.66 in /usr/local/lib/python3.10/dist-packages (from paddleocr==2.7.3) (4.6.0.66)\n",
            "Requirement already satisfied: opencv-contrib-python<=4.6.0.66 in /usr/local/lib/python3.10/dist-packages (from paddleocr==2.7.3) (4.6.0.66)\n",
            "Requirement already satisfied: cython in /usr/local/lib/python3.10/dist-packages (from paddleocr==2.7.3) (3.0.9)\n",
            "Requirement already satisfied: lxml in /usr/local/lib/python3.10/dist-packages (from paddleocr==2.7.3) (4.9.4)\n",
            "Requirement already satisfied: premailer in /usr/local/lib/python3.10/dist-packages (from paddleocr==2.7.3) (3.10.0)\n",
            "Requirement already satisfied: openpyxl in /usr/local/lib/python3.10/dist-packages (from paddleocr==2.7.3) (3.1.2)\n",
            "Requirement already satisfied: attrdict in /usr/local/lib/python3.10/dist-packages (from paddleocr==2.7.3) (2.0.1)\n",
            "Requirement already satisfied: Pillow>=10.0.0 in /usr/local/lib/python3.10/dist-packages (from paddleocr==2.7.3) (10.0.1)\n",
            "Requirement already satisfied: pyyaml in /usr/local/lib/python3.10/dist-packages (from paddleocr==2.7.3) (6.0.1)\n",
            "Requirement already satisfied: python-docx in /usr/local/lib/python3.10/dist-packages (from paddleocr==2.7.3) (1.1.0)\n",
            "Requirement already satisfied: beautifulsoup4 in /usr/local/lib/python3.10/dist-packages (from paddleocr==2.7.3) (4.12.3)\n",
            "Requirement already satisfied: fonttools>=4.24.0 in /usr/local/lib/python3.10/dist-packages (from paddleocr==2.7.3) (4.50.0)\n",
            "Requirement already satisfied: fire>=0.3.0 in /usr/local/lib/python3.10/dist-packages (from paddleocr==2.7.3) (0.6.0)\n",
            "Requirement already satisfied: pdf2docx in /usr/local/lib/python3.10/dist-packages (from paddleocr==2.7.3) (0.5.8)\n",
            "Requirement already satisfied: six in /usr/local/lib/python3.10/dist-packages (from fire>=0.3.0->paddleocr==2.7.3) (1.16.0)\n",
            "Requirement already satisfied: termcolor in /usr/local/lib/python3.10/dist-packages (from fire>=0.3.0->paddleocr==2.7.3) (2.4.0)\n",
            "Requirement already satisfied: soupsieve>1.2 in /usr/local/lib/python3.10/dist-packages (from beautifulsoup4->paddleocr==2.7.3) (2.5)\n",
            "Requirement already satisfied: scipy in /usr/local/lib/python3.10/dist-packages (from imgaug->paddleocr==2.7.3) (1.11.4)\n",
            "Requirement already satisfied: matplotlib in /usr/local/lib/python3.10/dist-packages (from imgaug->paddleocr==2.7.3) (3.7.1)\n",
            "Requirement already satisfied: imageio in /usr/local/lib/python3.10/dist-packages (from imgaug->paddleocr==2.7.3) (2.31.6)\n",
            "Requirement already satisfied: networkx>=2.2 in /usr/local/lib/python3.10/dist-packages (from scikit-image->paddleocr==2.7.3) (3.2.1)\n",
            "Requirement already satisfied: tifffile>=2019.7.26 in /usr/local/lib/python3.10/dist-packages (from scikit-image->paddleocr==2.7.3) (2024.2.12)\n",
            "Requirement already satisfied: PyWavelets>=1.1.1 in /usr/local/lib/python3.10/dist-packages (from scikit-image->paddleocr==2.7.3) (1.5.0)\n",
            "Requirement already satisfied: packaging>=20.0 in /usr/local/lib/python3.10/dist-packages (from scikit-image->paddleocr==2.7.3) (24.0)\n",
            "Requirement already satisfied: et-xmlfile in /usr/local/lib/python3.10/dist-packages (from openpyxl->paddleocr==2.7.3) (1.1.0)\n",
            "Requirement already satisfied: PyMuPDF>=1.19.0 in /usr/local/lib/python3.10/dist-packages (from pdf2docx->paddleocr==2.7.3) (1.24.0)\n",
            "Requirement already satisfied: opencv-python-headless>=4.5 in /usr/local/lib/python3.10/dist-packages (from pdf2docx->paddleocr==2.7.3) (4.9.0.80)\n",
            "Requirement already satisfied: typing-extensions in /usr/local/lib/python3.10/dist-packages (from python-docx->paddleocr==2.7.3) (4.10.0)\n",
            "Requirement already satisfied: cssselect in /usr/local/lib/python3.10/dist-packages (from premailer->paddleocr==2.7.3) (1.2.0)\n",
            "Requirement already satisfied: cssutils in /usr/local/lib/python3.10/dist-packages (from premailer->paddleocr==2.7.3) (2.9.0)\n",
            "Requirement already satisfied: requests in /usr/local/lib/python3.10/dist-packages (from premailer->paddleocr==2.7.3) (2.31.0)\n",
            "Requirement already satisfied: cachetools in /usr/local/lib/python3.10/dist-packages (from premailer->paddleocr==2.7.3) (5.3.3)\n",
            "Requirement already satisfied: bce-python-sdk in /usr/local/lib/python3.10/dist-packages (from visualdl->paddleocr==2.7.3) (0.9.6)\n",
            "Requirement already satisfied: flask>=1.1.1 in /usr/local/lib/python3.10/dist-packages (from visualdl->paddleocr==2.7.3) (2.2.5)\n",
            "Requirement already satisfied: Flask-Babel>=3.0.0 in /usr/local/lib/python3.10/dist-packages (from visualdl->paddleocr==2.7.3) (4.0.0)\n",
            "Requirement already satisfied: protobuf>=3.20.0 in /usr/local/lib/python3.10/dist-packages (from visualdl->paddleocr==2.7.3) (3.20.3)\n",
            "Requirement already satisfied: pandas in /usr/local/lib/python3.10/dist-packages (from visualdl->paddleocr==2.7.3) (1.5.3)\n",
            "Requirement already satisfied: rarfile in /usr/local/lib/python3.10/dist-packages (from visualdl->paddleocr==2.7.3) (4.1)\n",
            "Requirement already satisfied: psutil in /usr/local/lib/python3.10/dist-packages (from visualdl->paddleocr==2.7.3) (5.9.5)\n",
            "Requirement already satisfied: Werkzeug>=2.2.2 in /usr/local/lib/python3.10/dist-packages (from flask>=1.1.1->visualdl->paddleocr==2.7.3) (3.0.1)\n",
            "Requirement already satisfied: Jinja2>=3.0 in /usr/local/lib/python3.10/dist-packages (from flask>=1.1.1->visualdl->paddleocr==2.7.3) (3.1.3)\n",
            "Requirement already satisfied: itsdangerous>=2.0 in /usr/local/lib/python3.10/dist-packages (from flask>=1.1.1->visualdl->paddleocr==2.7.3) (2.1.2)\n",
            "Requirement already satisfied: click>=8.0 in /usr/local/lib/python3.10/dist-packages (from flask>=1.1.1->visualdl->paddleocr==2.7.3) (8.1.7)\n",
            "Requirement already satisfied: Babel>=2.12 in /usr/local/lib/python3.10/dist-packages (from Flask-Babel>=3.0.0->visualdl->paddleocr==2.7.3) (2.14.0)\n",
            "Requirement already satisfied: pytz>=2022.7 in /usr/local/lib/python3.10/dist-packages (from Flask-Babel>=3.0.0->visualdl->paddleocr==2.7.3) (2023.4)\n",
            "Requirement already satisfied: PyMuPDFb==1.24.0 in /usr/local/lib/python3.10/dist-packages (from PyMuPDF>=1.19.0->pdf2docx->paddleocr==2.7.3) (1.24.0)\n",
            "Requirement already satisfied: pycryptodome>=3.8.0 in /usr/local/lib/python3.10/dist-packages (from bce-python-sdk->visualdl->paddleocr==2.7.3) (3.20.0)\n",
            "Requirement already satisfied: future>=0.6.0 in /usr/local/lib/python3.10/dist-packages (from bce-python-sdk->visualdl->paddleocr==2.7.3) (0.18.3)\n",
            "Requirement already satisfied: contourpy>=1.0.1 in /usr/local/lib/python3.10/dist-packages (from matplotlib->imgaug->paddleocr==2.7.3) (1.2.0)\n",
            "Requirement already satisfied: cycler>=0.10 in /usr/local/lib/python3.10/dist-packages (from matplotlib->imgaug->paddleocr==2.7.3) (0.12.1)\n",
            "Requirement already satisfied: kiwisolver>=1.0.1 in /usr/local/lib/python3.10/dist-packages (from matplotlib->imgaug->paddleocr==2.7.3) (1.4.5)\n",
            "Requirement already satisfied: pyparsing>=2.3.1 in /usr/local/lib/python3.10/dist-packages (from matplotlib->imgaug->paddleocr==2.7.3) (3.1.2)\n",
            "Requirement already satisfied: python-dateutil>=2.7 in /usr/local/lib/python3.10/dist-packages (from matplotlib->imgaug->paddleocr==2.7.3) (2.8.2)\n",
            "Requirement already satisfied: charset-normalizer<4,>=2 in /usr/local/lib/python3.10/dist-packages (from requests->premailer->paddleocr==2.7.3) (3.3.2)\n",
            "Requirement already satisfied: idna<4,>=2.5 in /usr/local/lib/python3.10/dist-packages (from requests->premailer->paddleocr==2.7.3) (3.6)\n",
            "Requirement already satisfied: urllib3<3,>=1.21.1 in /usr/local/lib/python3.10/dist-packages (from requests->premailer->paddleocr==2.7.3) (2.0.7)\n",
            "Requirement already satisfied: certifi>=2017.4.17 in /usr/local/lib/python3.10/dist-packages (from requests->premailer->paddleocr==2.7.3) (2024.2.2)\n",
            "Requirement already satisfied: MarkupSafe>=2.0 in /usr/local/lib/python3.10/dist-packages (from Jinja2>=3.0->flask>=1.1.1->visualdl->paddleocr==2.7.3) (2.1.5)\n",
            "Installing collected packages: paddleocr\n",
            "  Attempting uninstall: paddleocr\n",
            "    Found existing installation: paddleocr 2.7.5\n",
            "    Uninstalling paddleocr-2.7.5:\n",
            "      Successfully uninstalled paddleocr-2.7.5\n",
            "Successfully installed paddleocr-2.7.3\n"
          ]
        }
      ]
    },
    {
      "cell_type": "code",
      "source": [
        "# !pip install pyspellchecker\n",
        "# !python -m spacy download en_core_web_lg"
      ],
      "metadata": {
        "id": "oV9x0koMQCj-"
      },
      "execution_count": 57,
      "outputs": []
    },
    {
      "cell_type": "code",
      "source": [
        "from paddleocr import PaddleOCR\n",
        "ocr = PaddleOCR(use_angle_cls=True,lang='en')\n",
        "\n",
        "from textblob import TextBlob\n",
        "from spellchecker import SpellChecker\n",
        "import re"
      ],
      "metadata": {
        "colab": {
          "base_uri": "https://localhost:8080/"
        },
        "id": "RJryO2O2QDFu",
        "outputId": "15b66787-e386-4872-fa6c-3cfd68c559ee"
      },
      "execution_count": 58,
      "outputs": [
        {
          "output_type": "stream",
          "name": "stdout",
          "text": [
            "download https://paddleocr.bj.bcebos.com/PP-OCRv3/english/en_PP-OCRv3_det_infer.tar to /root/.paddleocr/whl/det/en/en_PP-OCRv3_det_infer/en_PP-OCRv3_det_infer.tar\n"
          ]
        },
        {
          "output_type": "stream",
          "name": "stderr",
          "text": [
            "100%|██████████| 4.00M/4.00M [00:00<00:00, 9.01MiB/s]\n"
          ]
        },
        {
          "output_type": "stream",
          "name": "stdout",
          "text": [
            "download https://paddleocr.bj.bcebos.com/PP-OCRv4/english/en_PP-OCRv4_rec_infer.tar to /root/.paddleocr/whl/rec/en/en_PP-OCRv4_rec_infer/en_PP-OCRv4_rec_infer.tar\n"
          ]
        },
        {
          "output_type": "stream",
          "name": "stderr",
          "text": [
            "100%|██████████| 10.2M/10.2M [00:00<00:00, 14.0MiB/s]\n"
          ]
        },
        {
          "output_type": "stream",
          "name": "stdout",
          "text": [
            "download https://paddleocr.bj.bcebos.com/dygraph_v2.0/ch/ch_ppocr_mobile_v2.0_cls_infer.tar to /root/.paddleocr/whl/cls/ch_ppocr_mobile_v2.0_cls_infer/ch_ppocr_mobile_v2.0_cls_infer.tar\n"
          ]
        },
        {
          "output_type": "stream",
          "name": "stderr",
          "text": [
            "100%|██████████| 2.19M/2.19M [00:01<00:00, 1.22MiB/s]"
          ]
        },
        {
          "output_type": "stream",
          "name": "stdout",
          "text": [
            "[2024/03/29 12:03:39] ppocr DEBUG: Namespace(help='==SUPPRESS==', use_gpu=False, use_xpu=False, use_npu=False, use_mlu=False, ir_optim=True, use_tensorrt=False, min_subgraph_size=15, precision='fp32', gpu_mem=500, gpu_id=0, image_dir=None, page_num=0, det_algorithm='DB', det_model_dir='/root/.paddleocr/whl/det/en/en_PP-OCRv3_det_infer', det_limit_side_len=960, det_limit_type='max', det_box_type='quad', det_db_thresh=0.3, det_db_box_thresh=0.6, det_db_unclip_ratio=1.5, max_batch_size=10, use_dilation=False, det_db_score_mode='fast', det_east_score_thresh=0.8, det_east_cover_thresh=0.1, det_east_nms_thresh=0.2, det_sast_score_thresh=0.5, det_sast_nms_thresh=0.2, det_pse_thresh=0, det_pse_box_thresh=0.85, det_pse_min_area=16, det_pse_scale=1, scales=[8, 16, 32], alpha=1.0, beta=1.0, fourier_degree=5, rec_algorithm='SVTR_LCNet', rec_model_dir='/root/.paddleocr/whl/rec/en/en_PP-OCRv4_rec_infer', rec_image_inverse=True, rec_image_shape='3, 48, 320', rec_batch_num=6, max_text_length=25, rec_char_dict_path='/usr/local/lib/python3.10/dist-packages/paddleocr/ppocr/utils/en_dict.txt', use_space_char=True, vis_font_path='./doc/fonts/simfang.ttf', drop_score=0.5, e2e_algorithm='PGNet', e2e_model_dir=None, e2e_limit_side_len=768, e2e_limit_type='max', e2e_pgnet_score_thresh=0.5, e2e_char_dict_path='./ppocr/utils/ic15_dict.txt', e2e_pgnet_valid_set='totaltext', e2e_pgnet_mode='fast', use_angle_cls=True, cls_model_dir='/root/.paddleocr/whl/cls/ch_ppocr_mobile_v2.0_cls_infer', cls_image_shape='3, 48, 192', label_list=['0', '180'], cls_batch_num=6, cls_thresh=0.9, enable_mkldnn=False, cpu_threads=10, use_pdserving=False, warmup=False, sr_model_dir=None, sr_image_shape='3, 32, 128', sr_batch_num=1, draw_img_save_dir='./inference_results', save_crop_res=False, crop_res_save_dir='./output', use_mp=False, total_process_num=1, process_id=0, benchmark=False, save_log_path='./log_output/', show_log=True, use_onnx=False, return_word_box=False, output='./output', table_max_len=488, table_algorithm='TableAttn', table_model_dir=None, merge_no_span_structure=True, table_char_dict_path=None, layout_model_dir=None, layout_dict_path=None, layout_score_threshold=0.5, layout_nms_threshold=0.5, kie_algorithm='LayoutXLM', ser_model_dir=None, re_model_dir=None, use_visual_backbone=True, ser_dict_path='../train_data/XFUND/class_list_xfun.txt', ocr_order_method=None, mode='structure', image_orientation=False, layout=True, table=True, ocr=True, recovery=False, use_pdf2docx_api=False, invert=False, binarize=False, alphacolor=(255, 255, 255), lang='en', det=True, rec=True, type='ocr', ocr_version='PP-OCRv4', structure_version='PP-StructureV2')\n"
          ]
        },
        {
          "output_type": "stream",
          "name": "stderr",
          "text": [
            "\n"
          ]
        }
      ]
    },
    {
      "cell_type": "code",
      "source": [
        "def check(res):\n",
        "  str=re.findall(\"[a-zA-Z]+\",res)\n",
        "  updated_res=(\" \".join(str))\n",
        "  spell = SpellChecker()\n",
        "  misspelled = spell.unknown(str)\n",
        "\n",
        "  if len(updated_res)==0:\n",
        "    return 100000                           # if len is 0, avoid this case\n",
        "  return(len(misspelled)/len(updated_res))      # ratio of errors to word\n"
      ],
      "metadata": {
        "id": "2UebbjnNRW_V"
      },
      "execution_count": 59,
      "outputs": []
    },
    {
      "cell_type": "code",
      "source": [
        "def correct(text):\n",
        "  # txt = TextBlob(text)\n",
        "  # return txt.correct()\n",
        "  spell = SpellChecker()\n",
        "  words = text.split()\n",
        "  corrected_text = []\n",
        "\n",
        "  for word in words:\n",
        "      corrected_word = spell.correction(word)\n",
        "\n",
        "      if corrected_word is None:\n",
        "          corrected_word = word\n",
        "\n",
        "      corrected_text.append(corrected_word)\n",
        "\n",
        "  corrected_text = \" \".join(corrected_text)\n",
        "  return corrected_text"
      ],
      "metadata": {
        "id": "0mwaqp2mRau8"
      },
      "execution_count": 60,
      "outputs": []
    },
    {
      "cell_type": "code",
      "source": [
        "def text_to_img(file_name):\n",
        "  image = cv2.imread(file_name)\n",
        "  h, w = image.shape[:2]\n",
        "  gray = cv2.cvtColor(image, cv2.COLOR_BGR2GRAY)\n",
        "  thresh = cv2.threshold(gray, 0, 255, cv2.THRESH_BINARY_INV + cv2.THRESH_OTSU)[1]\n",
        "\n",
        "  # Sum white pixels in each row\n",
        "  # Create blank space array and and final image\n",
        "  pixels = np.sum(thresh, axis=1).tolist()\n",
        "  space = np.ones((4, w), dtype=np.uint8) * 255\n",
        "  result = np.zeros((0, w), dtype=np.uint8)\n",
        "\n",
        "  # Iterate through each row and add space if entire row is empty\n",
        "  # otherwise add original section of image to final image\n",
        "  for index, value in enumerate(pixels):\n",
        "      if value == 0:\n",
        "          result = np.concatenate((result, space), axis=0)\n",
        "      row = gray[index:index+1, 0:w]\n",
        "      result = np.concatenate((result, row), axis=0)\n",
        "\n",
        "\n",
        "  img_read=result\n",
        "\n",
        "  # global thresholding\n",
        "  retval, img_thresh1=cv2.threshold(img_read, 50, 255, cv2.THRESH_BINARY)\n",
        "  retval, img_thresh2=cv2.threshold(img_read, 120, 255, cv2.THRESH_BINARY)\n",
        "\n",
        "  # adaptive thresholding\n",
        "  img_thresh_adap=cv2.adaptiveThreshold(img_read, 255, cv2.ADAPTIVE_THRESH_MEAN_C,cv2.THRESH_BINARY,11,7)\n",
        "\n",
        "  result1 = ocr.ocr(img_read)\n",
        "  result2 = ocr.ocr(img_thresh1)\n",
        "  result3 = ocr.ocr(img_thresh2)\n",
        "  result4 = ocr.ocr(img_thresh_adap)\n",
        "\n",
        "  str1=\"\"\n",
        "  if result1[0] is not None:\n",
        "    for i in range(len(result1[0])):\n",
        "      str1=str1+result1[0][i][1][0]+\" \"\n",
        "\n",
        "\n",
        "  print()\n",
        "  str2=\"\"\n",
        "  if result2[0] is not None:\n",
        "    for i in range(len(result2[0])):\n",
        "      str2=str2+result2[0][i][1][0]+\" \"\n",
        "\n",
        "\n",
        "  print()\n",
        "  str3=\"\"\n",
        "  if result3[0] is not None:\n",
        "    for i in range(len(result3[0])):\n",
        "      str3=str3+result3[0][i][1][0]+\" \"\n",
        "\n",
        "\n",
        "  print()\n",
        "  str4=\"\"\n",
        "  if result4[0] is not None:\n",
        "    for i in range(len(result4[0])):\n",
        "      str4=str4+result4[0][i][1][0]+\" \"\n",
        "\n",
        "\n",
        "  best=\"\"\n",
        "  minm = min(check(str1), check(str2), check(str3), check(str4))\n",
        "\n",
        "  if minm==check(str1):\n",
        "    best=str1\n",
        "  elif minm==check(str2):\n",
        "    best=str2\n",
        "  elif minm==check(str3):\n",
        "    best=str3\n",
        "  else:\n",
        "    best=str4\n",
        "\n",
        "  return correct(best)\n"
      ],
      "metadata": {
        "id": "0MBE3tlUQmLX"
      },
      "execution_count": 61,
      "outputs": []
    },
    {
      "cell_type": "code",
      "source": [
        "eval_text=\"\"\n",
        "\n",
        "for i in range(len(images)):\n",
        "  txt=text_to_img(images[i])\n",
        "  eval_text=eval_text+txt+\" \"\n",
        "\n",
        "print(eval_text)"
      ],
      "metadata": {
        "colab": {
          "base_uri": "https://localhost:8080/"
        },
        "id": "4xydRPMwR0Am",
        "outputId": "0136c2d5-4ce4-4de1-8ead-4439853f0566"
      },
      "execution_count": 62,
      "outputs": [
        {
          "output_type": "stream",
          "name": "stdout",
          "text": [
            "[2024/03/29 12:03:45] ppocr DEBUG: dt_boxes num : 3, elapsed : 0.509774923324585\n",
            "[2024/03/29 12:03:45] ppocr DEBUG: cls num  : 3, elapsed : 0.05257868766784668\n",
            "[2024/03/29 12:03:46] ppocr DEBUG: rec_res num  : 3, elapsed : 0.481234073638916\n",
            "[2024/03/29 12:03:46] ppocr DEBUG: dt_boxes num : 3, elapsed : 0.16595673561096191\n",
            "[2024/03/29 12:03:46] ppocr DEBUG: cls num  : 3, elapsed : 0.01111292839050293\n",
            "[2024/03/29 12:03:46] ppocr DEBUG: rec_res num  : 3, elapsed : 0.3975982666015625\n",
            "[2024/03/29 12:03:47] ppocr DEBUG: dt_boxes num : 3, elapsed : 0.15564227104187012\n",
            "[2024/03/29 12:03:47] ppocr DEBUG: cls num  : 3, elapsed : 0.018705129623413086\n",
            "[2024/03/29 12:03:47] ppocr DEBUG: rec_res num  : 3, elapsed : 0.49106311798095703\n",
            "[2024/03/29 12:03:47] ppocr DEBUG: dt_boxes num : 4, elapsed : 0.17200803756713867\n",
            "[2024/03/29 12:03:47] ppocr DEBUG: cls num  : 4, elapsed : 0.029374361038208008\n",
            "[2024/03/29 12:03:48] ppocr DEBUG: rec_res num  : 4, elapsed : 0.5926568508148193\n",
            "\n",
            "\n",
            "\n",
            "[2024/03/29 12:03:49] ppocr DEBUG: dt_boxes num : 5, elapsed : 0.273496150970459\n",
            "[2024/03/29 12:03:49] ppocr DEBUG: cls num  : 5, elapsed : 0.030714035034179688\n",
            "[2024/03/29 12:03:50] ppocr DEBUG: rec_res num  : 5, elapsed : 0.6968634128570557\n",
            "[2024/03/29 12:03:50] ppocr DEBUG: dt_boxes num : 5, elapsed : 0.13950300216674805\n",
            "[2024/03/29 12:03:50] ppocr DEBUG: cls num  : 5, elapsed : 0.014091253280639648\n",
            "[2024/03/29 12:03:51] ppocr DEBUG: rec_res num  : 5, elapsed : 1.089907169342041\n",
            "[2024/03/29 12:03:52] ppocr DEBUG: dt_boxes num : 6, elapsed : 0.4186382293701172\n",
            "[2024/03/29 12:03:52] ppocr DEBUG: cls num  : 6, elapsed : 0.10307168960571289\n",
            "[2024/03/29 12:03:54] ppocr DEBUG: rec_res num  : 6, elapsed : 2.1626663208007812\n",
            "[2024/03/29 12:03:55] ppocr DEBUG: dt_boxes num : 8, elapsed : 0.43740272521972656\n",
            "[2024/03/29 12:03:55] ppocr DEBUG: cls num  : 8, elapsed : 0.06881117820739746\n",
            "[2024/03/29 12:03:56] ppocr DEBUG: rec_res num  : 8, elapsed : 1.3502402305603027\n",
            "\n",
            "\n",
            "\n",
            "An algorithm is a finite set of instructions carried Out in a specific order to perform a particular task or Solve a particular problem algorithms contains analyzing their efficiency and other crucial properties that determines whether the algorithm is suitable or not \n"
          ]
        }
      ]
    },
    {
      "cell_type": "markdown",
      "source": [
        "## Answer Evaluation"
      ],
      "metadata": {
        "id": "9SS8VP18WvTX"
      }
    },
    {
      "cell_type": "code",
      "source": [
        "import re\n",
        "import spacy\n",
        "import os\n",
        "import nltk\n",
        "nltk.download('punkt')\n",
        "import nltk.corpus"
      ],
      "metadata": {
        "colab": {
          "base_uri": "https://localhost:8080/"
        },
        "id": "af9UzjotXMYG",
        "outputId": "2f2dd542-e7a1-4bed-da2c-ead1e0fe9c7b"
      },
      "execution_count": 63,
      "outputs": [
        {
          "output_type": "stream",
          "name": "stderr",
          "text": [
            "[nltk_data] Downloading package punkt to /root/nltk_data...\n",
            "[nltk_data]   Unzipping tokenizers/punkt.zip.\n"
          ]
        }
      ]
    },
    {
      "cell_type": "code",
      "source": [
        "str=re.findall(\"[a-zA-Z]+\",eval_text)\n",
        "updated_ans=(\" \".join(str))\n",
        "print(updated_ans)"
      ],
      "metadata": {
        "colab": {
          "base_uri": "https://localhost:8080/"
        },
        "id": "FYT85EhWWxsH",
        "outputId": "9c9a469d-cb03-4d56-b0ab-e1eceabff241"
      },
      "execution_count": 64,
      "outputs": [
        {
          "output_type": "stream",
          "name": "stdout",
          "text": [
            "An algorithm is a finite set of instructions carried Out in a specific order to perform a particular task or Solve a particular problem algorithms contains analyzing their efficiency and other crucial properties that determines whether the algorithm is suitable or not\n"
          ]
        }
      ]
    },
    {
      "cell_type": "code",
      "source": [
        "nlp=spacy.load(\"en_core_web_lg\")\n",
        "v1=nlp(model_ans)\n",
        "v2=nlp(updated_ans)\n",
        "\n",
        "sim=v1.similarity(v2)\n",
        "sim"
      ],
      "metadata": {
        "colab": {
          "base_uri": "https://localhost:8080/"
        },
        "id": "Pzw1mcasW91G",
        "outputId": "bb1eae8e-ce30-4f81-f7fc-0da45f5ace2f"
      },
      "execution_count": 65,
      "outputs": [
        {
          "output_type": "execute_result",
          "data": {
            "text/plain": [
              "0.9910779435292508"
            ]
          },
          "metadata": {},
          "execution_count": 65
        }
      ]
    },
    {
      "cell_type": "code",
      "source": [
        "#marks evaluation\n",
        "marks=0\n",
        "if sim>0.995:\n",
        "  marks=10\n",
        "elif sim>0.99:\n",
        "  marks=9\n",
        "elif sim>0.97:\n",
        "  marks=8\n",
        "elif sim>0.95:\n",
        "  marks=7\n",
        "elif sim>0.92:\n",
        "  marks=6\n",
        "elif sim>0.90:\n",
        "  marks=4\n",
        "elif sim>0.87:\n",
        "  marks=3\n",
        "elif sim>0.82:\n",
        "  marks=2\n",
        "elif sim>0.78:\n",
        "  marks=1\n",
        "else:\n",
        "  marks=0\n",
        "\n"
      ],
      "metadata": {
        "id": "nHvZ8pCgXeqv"
      },
      "execution_count": 66,
      "outputs": []
    },
    {
      "cell_type": "code",
      "source": [
        "total_marks=diagram_marks+marks\n",
        "\n",
        "if isdiagram:\n",
        "  print(\"Total Marks out of 15: \",total_marks)\n",
        "else:\n",
        "  print(\"Total Marks out of 10: \",total_marks)"
      ],
      "metadata": {
        "colab": {
          "base_uri": "https://localhost:8080/"
        },
        "id": "8OAB6-9_XgcW",
        "outputId": "18fe3189-51d1-44a9-bcef-a7d85c62ebfb"
      },
      "execution_count": 67,
      "outputs": [
        {
          "output_type": "stream",
          "name": "stdout",
          "text": [
            "Total Marks out of 15:  14\n"
          ]
        }
      ]
    }
  ]
}