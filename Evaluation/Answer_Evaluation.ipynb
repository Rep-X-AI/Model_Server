{
  "nbformat": 4,
  "nbformat_minor": 0,
  "metadata": {
    "colab": {
      "provenance": []
    },
    "kernelspec": {
      "name": "python3",
      "display_name": "Python 3"
    },
    "language_info": {
      "name": "python"
    }
  },
  "cells": [
    {
      "cell_type": "code",
      "execution_count": 1,
      "metadata": {
        "colab": {
          "base_uri": "https://localhost:8080/"
        },
        "id": "gwcok6l2ERJg",
        "outputId": "d67e909a-08f7-4021-df42-6c938617bd9d"
      },
      "outputs": [
        {
          "output_type": "stream",
          "name": "stderr",
          "text": [
            "[nltk_data] Downloading package punkt to /root/nltk_data...\n",
            "[nltk_data]   Package punkt is already up-to-date!\n"
          ]
        }
      ],
      "source": [
        "import re\n",
        "import spacy\n",
        "import os\n",
        "import nltk\n",
        "nltk.download('punkt')\n",
        "import nltk.corpus\n",
        "# !pip install pyspellchecker\n",
        "# !python -m spacy download en_core_web_lg"
      ]
    },
    {
      "cell_type": "code",
      "source": [
        "given=\"Artifiial Intelligence (AI) is a rapidly advancing field focused on creatig intelligent machines capable of human-like tasks. Machine Learning and Deep Lerning are integral components, enabling systems to learn and adapt from data. Ethical considerations are vital to ensure responsible AI development and deployment.\"\n",
        "print(given)"
      ],
      "metadata": {
        "colab": {
          "base_uri": "https://localhost:8080/"
        },
        "id": "yEAinEIRHmXV",
        "outputId": "6ed69820-71b6-4e0f-ab7d-ffc1945d0da5"
      },
      "execution_count": 2,
      "outputs": [
        {
          "output_type": "stream",
          "name": "stdout",
          "text": [
            "Artifiial Intelligence (AI) is a rapidly advancing field focused on creatig intelligent machines capable of human-like tasks. Machine Learning and Deep Lerning are integral components, enabling systems to learn and adapt from data. Ethical considerations are vital to ensure responsible AI development and deployment.\n"
          ]
        }
      ]
    },
    {
      "cell_type": "markdown",
      "source": [
        "# Grammar Evaluation"
      ],
      "metadata": {
        "id": "MJYvFABXdgqK"
      }
    },
    {
      "cell_type": "code",
      "source": [
        "from textblob import TextBlob\n",
        "from spellchecker import SpellChecker"
      ],
      "metadata": {
        "id": "_1y5czujeFEP"
      },
      "execution_count": 3,
      "outputs": []
    },
    {
      "cell_type": "code",
      "source": [
        "str=re.findall(\"[a-zA-Z]+\",given)\n",
        "updated_given=(\" \".join(str))\n",
        "print(updated_given)"
      ],
      "metadata": {
        "colab": {
          "base_uri": "https://localhost:8080/"
        },
        "id": "oGtj5wNDKrUV",
        "outputId": "a9df043e-c35e-472e-b0ad-7ba00a027802"
      },
      "execution_count": 4,
      "outputs": [
        {
          "output_type": "stream",
          "name": "stdout",
          "text": [
            "Artifiial Intelligence AI is a rapidly advancing field focused on creatig intelligent machines capable of human like tasks Machine Learning and Deep Lerning are integral components enabling systems to learn and adapt from data Ethical considerations are vital to ensure responsible AI development and deployment\n"
          ]
        }
      ]
    },
    {
      "cell_type": "code",
      "source": [
        "spell = SpellChecker()\n",
        "misspelled = spell.unknown(str)\n",
        "print(misspelled)"
      ],
      "metadata": {
        "colab": {
          "base_uri": "https://localhost:8080/"
        },
        "id": "nSRaP6AuK6NN",
        "outputId": "98aeb10d-6551-47f1-9ae9-8d0a3650de20"
      },
      "execution_count": 5,
      "outputs": [
        {
          "output_type": "stream",
          "name": "stdout",
          "text": [
            "{'artifiial', 'creatig', 'lerning'}\n"
          ]
        }
      ]
    },
    {
      "cell_type": "code",
      "source": [
        "len(misspelled)"
      ],
      "metadata": {
        "colab": {
          "base_uri": "https://localhost:8080/"
        },
        "id": "pSZuACRpLAoN",
        "outputId": "3aa5e857-b147-49c4-9829-bd98aea247d9"
      },
      "execution_count": 6,
      "outputs": [
        {
          "output_type": "execute_result",
          "data": {
            "text/plain": [
              "3"
            ]
          },
          "metadata": {},
          "execution_count": 6
        }
      ]
    },
    {
      "cell_type": "code",
      "source": [
        "marks_deduct=0\n",
        "if len(misspelled)>0 and len(misspelled)<=2:\n",
        "  marks_deduct=-1\n",
        "elif len(misspelled)>2 and len(misspelled)<=4:\n",
        "  marks_deduct=-2\n",
        "elif len(misspelled)>4:\n",
        "  marks_deduct=-3\n",
        "else:\n",
        "  marks_deduct=0\n",
        "print(marks_deduct)"
      ],
      "metadata": {
        "colab": {
          "base_uri": "https://localhost:8080/"
        },
        "id": "r_xSZnBLLmnd",
        "outputId": "3ee9d09c-1b66-467d-8450-ac63e3f49bbf"
      },
      "execution_count": 7,
      "outputs": [
        {
          "output_type": "stream",
          "name": "stdout",
          "text": [
            "-2\n"
          ]
        }
      ]
    },
    {
      "cell_type": "markdown",
      "source": [
        "# Similarity Check"
      ],
      "metadata": {
        "id": "LJL4dalBeiJL"
      }
    },
    {
      "cell_type": "code",
      "source": [
        "model_ans=\"AI, or Artificial Intelligence, refers to the development of computer systems capable of performing tasks that typically require human intelligence. It encompasses various technologies such as machine learning and deep learning, driving innovation across industries. Ethical considerations surrounding AI's development and deployment remain crucial for ensuring responsible and beneficial integration into society..\"\n",
        "print(model_ans)"
      ],
      "metadata": {
        "colab": {
          "base_uri": "https://localhost:8080/"
        },
        "id": "dTscGe5WOS3F",
        "outputId": "41fb52d1-c7e6-49d4-e5fa-54c7a8712d20"
      },
      "execution_count": 8,
      "outputs": [
        {
          "output_type": "stream",
          "name": "stdout",
          "text": [
            "AI, or Artificial Intelligence, refers to the development of computer systems capable of performing tasks that typically require human intelligence. It encompasses various technologies such as machine learning and deep learning, driving innovation across industries. Ethical considerations surrounding AI's development and deployment remain crucial for ensuring responsible and beneficial integration into society..\n"
          ]
        }
      ]
    },
    {
      "cell_type": "code",
      "source": [
        "str=re.findall(\"[a-zA-Z]+\",model_ans)\n",
        "updated_ans=(\" \".join(str))\n",
        "print(updated_ans)"
      ],
      "metadata": {
        "colab": {
          "base_uri": "https://localhost:8080/"
        },
        "id": "Q5kTOUTROXjc",
        "outputId": "af86d25a-9d85-4c79-c819-fbf34e7aba2d"
      },
      "execution_count": 9,
      "outputs": [
        {
          "output_type": "stream",
          "name": "stdout",
          "text": [
            "AI or Artificial Intelligence refers to the development of computer systems capable of performing tasks that typically require human intelligence It encompasses various technologies such as machine learning and deep learning driving innovation across industries Ethical considerations surrounding AI s development and deployment remain crucial for ensuring responsible and beneficial integration into society\n"
          ]
        }
      ]
    },
    {
      "cell_type": "code",
      "source": [
        "nlp=spacy.load(\"en_core_web_lg\")"
      ],
      "metadata": {
        "id": "CFAlnrUBOpzd"
      },
      "execution_count": 10,
      "outputs": []
    },
    {
      "cell_type": "code",
      "source": [
        "# w1=\"red\"\n",
        "# w2=\"hot\"\n",
        "# w1=nlp.vocab[w1]\n",
        "# w2=nlp.vocab[w2]\n",
        "# w1.similarity(w2)"
      ],
      "metadata": {
        "id": "WavmMDCQUsc-"
      },
      "execution_count": 11,
      "outputs": []
    },
    {
      "cell_type": "code",
      "source": [
        "v1=nlp(given)\n",
        "v2=nlp(model_ans)\n",
        "\n",
        "sim=v1.similarity(v2)\n",
        "sim"
      ],
      "metadata": {
        "colab": {
          "base_uri": "https://localhost:8080/"
        },
        "id": "IyohBf6YVrO9",
        "outputId": "e2455422-fe23-4f06-a0af-1cce6bc2f23d"
      },
      "execution_count": 12,
      "outputs": [
        {
          "output_type": "execute_result",
          "data": {
            "text/plain": [
              "0.9632473439795378"
            ]
          },
          "metadata": {},
          "execution_count": 12
        }
      ]
    },
    {
      "cell_type": "code",
      "source": [
        "#marks evaluation\n",
        "marks=0\n",
        "if sim>0.95:\n",
        "  marks=5\n",
        "elif sim>0.9:\n",
        "  marks=4\n",
        "elif sim>0.85:\n",
        "  marks=3\n",
        "elif sim>0.8:\n",
        "  marks=2\n",
        "elif sim>0.75:\n",
        "  marks=1\n",
        "else:\n",
        "  marks=0\n",
        "\n",
        "print(marks)"
      ],
      "metadata": {
        "colab": {
          "base_uri": "https://localhost:8080/"
        },
        "id": "ORscgguRZx7u",
        "outputId": "a2ede2b4-7d92-4d45-8fd7-f89ba926d440"
      },
      "execution_count": 13,
      "outputs": [
        {
          "output_type": "stream",
          "name": "stdout",
          "text": [
            "5\n"
          ]
        }
      ]
    },
    {
      "cell_type": "code",
      "source": [
        "total = marks + marks_deduct\n",
        "if total<0:\n",
        "  total=0\n",
        "print(\"Final Marks:\", end=\" \")\n",
        "print(total)"
      ],
      "metadata": {
        "colab": {
          "base_uri": "https://localhost:8080/"
        },
        "id": "SHiJpVo3hX44",
        "outputId": "f37688db-16d0-4c4c-ba84-0b0a785d356c"
      },
      "execution_count": 14,
      "outputs": [
        {
          "output_type": "stream",
          "name": "stdout",
          "text": [
            "Final Marks: 3\n"
          ]
        }
      ]
    },
    {
      "cell_type": "markdown",
      "source": [
        "# Keyword Extraction (if needed)"
      ],
      "metadata": {
        "id": "JT0teUsoflVO"
      }
    },
    {
      "cell_type": "code",
      "source": [
        "from nltk.tokenize import word_tokenize\n",
        "\n",
        "ans_tokens=word_tokenize(updated_given)\n",
        "ans_tokens"
      ],
      "metadata": {
        "colab": {
          "base_uri": "https://localhost:8080/"
        },
        "id": "zxZjPIntaUdo",
        "outputId": "c1e384ae-95b7-46e3-a061-52822ad3fdfb"
      },
      "execution_count": 15,
      "outputs": [
        {
          "output_type": "execute_result",
          "data": {
            "text/plain": [
              "['Artifiial',\n",
              " 'Intelligence',\n",
              " 'AI',\n",
              " 'is',\n",
              " 'a',\n",
              " 'rapidly',\n",
              " 'advancing',\n",
              " 'field',\n",
              " 'focused',\n",
              " 'on',\n",
              " 'creatig',\n",
              " 'intelligent',\n",
              " 'machines',\n",
              " 'capable',\n",
              " 'of',\n",
              " 'human',\n",
              " 'like',\n",
              " 'tasks',\n",
              " 'Machine',\n",
              " 'Learning',\n",
              " 'and',\n",
              " 'Deep',\n",
              " 'Lerning',\n",
              " 'are',\n",
              " 'integral',\n",
              " 'components',\n",
              " 'enabling',\n",
              " 'systems',\n",
              " 'to',\n",
              " 'learn',\n",
              " 'and',\n",
              " 'adapt',\n",
              " 'from',\n",
              " 'data',\n",
              " 'Ethical',\n",
              " 'considerations',\n",
              " 'are',\n",
              " 'vital',\n",
              " 'to',\n",
              " 'ensure',\n",
              " 'responsible',\n",
              " 'AI',\n",
              " 'development',\n",
              " 'and',\n",
              " 'deployment']"
            ]
          },
          "metadata": {},
          "execution_count": 15
        }
      ]
    },
    {
      "cell_type": "code",
      "source": [
        "from nltk.corpus import stopwords\n",
        "\n",
        "nltk.download('stopwords')\n",
        "stop_words = set(stopwords.words('english'))\n",
        "print(stopwords.words('english'))"
      ],
      "metadata": {
        "colab": {
          "base_uri": "https://localhost:8080/"
        },
        "id": "84XXZ52Lab8-",
        "outputId": "9c389547-9dfe-4cf0-917c-7443a90c19ca"
      },
      "execution_count": 16,
      "outputs": [
        {
          "output_type": "stream",
          "name": "stdout",
          "text": [
            "['i', 'me', 'my', 'myself', 'we', 'our', 'ours', 'ourselves', 'you', \"you're\", \"you've\", \"you'll\", \"you'd\", 'your', 'yours', 'yourself', 'yourselves', 'he', 'him', 'his', 'himself', 'she', \"she's\", 'her', 'hers', 'herself', 'it', \"it's\", 'its', 'itself', 'they', 'them', 'their', 'theirs', 'themselves', 'what', 'which', 'who', 'whom', 'this', 'that', \"that'll\", 'these', 'those', 'am', 'is', 'are', 'was', 'were', 'be', 'been', 'being', 'have', 'has', 'had', 'having', 'do', 'does', 'did', 'doing', 'a', 'an', 'the', 'and', 'but', 'if', 'or', 'because', 'as', 'until', 'while', 'of', 'at', 'by', 'for', 'with', 'about', 'against', 'between', 'into', 'through', 'during', 'before', 'after', 'above', 'below', 'to', 'from', 'up', 'down', 'in', 'out', 'on', 'off', 'over', 'under', 'again', 'further', 'then', 'once', 'here', 'there', 'when', 'where', 'why', 'how', 'all', 'any', 'both', 'each', 'few', 'more', 'most', 'other', 'some', 'such', 'no', 'nor', 'not', 'only', 'own', 'same', 'so', 'than', 'too', 'very', 's', 't', 'can', 'will', 'just', 'don', \"don't\", 'should', \"should've\", 'now', 'd', 'll', 'm', 'o', 're', 've', 'y', 'ain', 'aren', \"aren't\", 'couldn', \"couldn't\", 'didn', \"didn't\", 'doesn', \"doesn't\", 'hadn', \"hadn't\", 'hasn', \"hasn't\", 'haven', \"haven't\", 'isn', \"isn't\", 'ma', 'mightn', \"mightn't\", 'mustn', \"mustn't\", 'needn', \"needn't\", 'shan', \"shan't\", 'shouldn', \"shouldn't\", 'wasn', \"wasn't\", 'weren', \"weren't\", 'won', \"won't\", 'wouldn', \"wouldn't\"]\n"
          ]
        },
        {
          "output_type": "stream",
          "name": "stderr",
          "text": [
            "[nltk_data] Downloading package stopwords to /root/nltk_data...\n",
            "[nltk_data]   Package stopwords is already up-to-date!\n"
          ]
        }
      ]
    },
    {
      "cell_type": "code",
      "source": [
        "# str=re.findall(\"[a-zA-Z]+\",docx)\n",
        "# updated_docx=(\" \".join(str))\n",
        "# print(updated_docx)"
      ],
      "metadata": {
        "id": "J8LJgYfEboun"
      },
      "execution_count": 17,
      "outputs": []
    },
    {
      "cell_type": "code",
      "source": [
        "filtered_sentence = [w for w in ans_tokens if not w.lower() in stop_words]\n",
        "#with no lower case conversion\n",
        "filtered_sentence = []\n",
        "\n",
        "for w in ans_tokens:\n",
        "    if w not in stop_words:\n",
        "        filtered_sentence.append(w)\n",
        "\n",
        "print(filtered_sentence)"
      ],
      "metadata": {
        "colab": {
          "base_uri": "https://localhost:8080/"
        },
        "id": "kyGcxEj2bDMW",
        "outputId": "13eddec0-aab8-49b2-ec5f-2499a37b2beb"
      },
      "execution_count": 18,
      "outputs": [
        {
          "output_type": "stream",
          "name": "stdout",
          "text": [
            "['Artifiial', 'Intelligence', 'AI', 'rapidly', 'advancing', 'field', 'focused', 'creatig', 'intelligent', 'machines', 'capable', 'human', 'like', 'tasks', 'Machine', 'Learning', 'Deep', 'Lerning', 'integral', 'components', 'enabling', 'systems', 'learn', 'adapt', 'data', 'Ethical', 'considerations', 'vital', 'ensure', 'responsible', 'AI', 'development', 'deployment']\n"
          ]
        }
      ]
    },
    {
      "cell_type": "code",
      "source": [
        "len(filtered_sentence)"
      ],
      "metadata": {
        "colab": {
          "base_uri": "https://localhost:8080/"
        },
        "id": "155GST1kb8gq",
        "outputId": "fea1b266-278d-493e-a214-250f8eb69300"
      },
      "execution_count": 19,
      "outputs": [
        {
          "output_type": "execute_result",
          "data": {
            "text/plain": [
              "33"
            ]
          },
          "metadata": {},
          "execution_count": 19
        }
      ]
    },
    {
      "cell_type": "code",
      "source": [
        "from nltk.probability import FreqDist\n",
        "fdist=FreqDist()"
      ],
      "metadata": {
        "id": "HWcGli_ocAnG"
      },
      "execution_count": 20,
      "outputs": []
    },
    {
      "cell_type": "code",
      "source": [
        "for word in filtered_sentence:\n",
        "  fdist[word.lower()]+=1\n",
        "fdist"
      ],
      "metadata": {
        "colab": {
          "base_uri": "https://localhost:8080/"
        },
        "id": "6ark6boXcQuG",
        "outputId": "ec6cddb3-ccd5-484a-87d3-3c391a397a3e"
      },
      "execution_count": 21,
      "outputs": [
        {
          "output_type": "execute_result",
          "data": {
            "text/plain": [
              "FreqDist({'ai': 2, 'artifiial': 1, 'intelligence': 1, 'rapidly': 1, 'advancing': 1, 'field': 1, 'focused': 1, 'creatig': 1, 'intelligent': 1, 'machines': 1, ...})"
            ]
          },
          "metadata": {},
          "execution_count": 21
        }
      ]
    },
    {
      "cell_type": "code",
      "source": [
        "len(fdist)"
      ],
      "metadata": {
        "colab": {
          "base_uri": "https://localhost:8080/"
        },
        "id": "HfW3jip-cvc7",
        "outputId": "e44707c1-3f55-489d-babb-814e79aadaff"
      },
      "execution_count": 22,
      "outputs": [
        {
          "output_type": "execute_result",
          "data": {
            "text/plain": [
              "32"
            ]
          },
          "metadata": {},
          "execution_count": 22
        }
      ]
    },
    {
      "cell_type": "code",
      "source": [
        "top5=fdist.most_common(5)\n",
        "print(top5)"
      ],
      "metadata": {
        "colab": {
          "base_uri": "https://localhost:8080/"
        },
        "id": "n1cvBZPxc1E2",
        "outputId": "14e7b623-0f9c-47cb-a4f3-be5b67f83b0f"
      },
      "execution_count": 23,
      "outputs": [
        {
          "output_type": "stream",
          "name": "stdout",
          "text": [
            "[('ai', 2), ('artifiial', 1), ('intelligence', 1), ('rapidly', 1), ('advancing', 1)]\n"
          ]
        }
      ]
    },
    {
      "cell_type": "code",
      "source": [
        "top5_keywords= []\n",
        "for x, y in top5:\n",
        "    top5_keywords.append(x)\n",
        "\n",
        "print(top5_keywords)"
      ],
      "metadata": {
        "colab": {
          "base_uri": "https://localhost:8080/"
        },
        "id": "R_zpg68ydBou",
        "outputId": "c7a1d001-6f26-45d3-e20f-91b46502a5a7"
      },
      "execution_count": 24,
      "outputs": [
        {
          "output_type": "stream",
          "name": "stdout",
          "text": [
            "['ai', 'artifiial', 'intelligence', 'rapidly', 'advancing']\n"
          ]
        }
      ]
    }
  ]
}